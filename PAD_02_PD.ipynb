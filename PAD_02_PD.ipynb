{
 "cells": [
  {
   "cell_type": "markdown",
   "metadata": {
    "id": "jjNBmv7pVwP_"
   },
   "source": [
    "## PRACA DOMOWA (15 pkt)"
   ]
  },
  {
   "cell_type": "code",
   "execution_count": 19,
   "metadata": {
    "id": "TTUMq_uuVx32",
    "ExecuteTime": {
     "end_time": "2023-10-25T18:48:02.270141800Z",
     "start_time": "2023-10-25T18:48:02.128991700Z"
    }
   },
   "outputs": [
    {
     "name": "stdout",
     "output_type": "stream",
     "text": [
      "licze\n",
      "licze\n",
      "licze\n",
      "licze\n",
      "licze\n",
      "licze\n",
      "licze\n",
      "licze\n",
      "licze\n",
      "licze\n",
      "29\n",
      "1\n",
      "29\n",
      "1\n",
      "4\n",
      "29\n",
      "licze\n",
      "licze\n",
      "licze\n",
      "licze\n",
      "licze\n",
      "773\n"
     ]
    }
   ],
   "source": [
    "'''\n",
    "Zadanie 1 (4 pkt)\n",
    "Wykorzystując dekoratory, napisz cache dla funkcji tetranacci z poprzedniego zadania.\n",
    "Ten dekorator powinien zapobiegać przed ponownym obliczaniem tych samych wartości.\n",
    "'''\n",
    "from functools import wraps\n",
    "\n",
    "def cache(f):\n",
    "    cache_map = {}\n",
    "\n",
    "    @wraps(f)\n",
    "    def wrapper(*args, **kwargs):\n",
    "        if args not in cache_map:\n",
    "\n",
    "            cache_map[args] = f(*args, **kwargs)\n",
    "            \n",
    "        return cache_map[args]\n",
    "\n",
    "    return wrapper\n",
    "\n",
    "@cache\n",
    "def tetranacci(n):\n",
    "    \n",
    "    if n == 1 or n == 2 or n == 3:\n",
    "        print('licze')\n",
    "        return 0\n",
    "    elif n == 4:\n",
    "        print('licze')\n",
    "        return 1\n",
    "    else:\n",
    "        print('licze')\n",
    "        return tetranacci(n-1) + tetranacci(n-2) + tetranacci(n-3) + tetranacci(n-4)\n",
    "\n",
    "print(tetranacci(10))\n",
    "print(tetranacci(5))\n",
    "\n",
    "print(tetranacci(10))\n",
    "print(tetranacci(5))\n",
    "print(tetranacci(7))\n",
    "print(tetranacci(10))\n",
    "print(tetranacci(15))\n",
    "\n"
   ]
  },
  {
   "cell_type": "code",
   "execution_count": 20,
   "metadata": {
    "id": "Q_Ur2Z9uWF-l",
    "ExecuteTime": {
     "end_time": "2023-10-25T18:48:02.270141800Z",
     "start_time": "2023-10-25T18:48:02.187958600Z"
    }
   },
   "outputs": [
    {
     "name": "stdout",
     "output_type": "stream",
     "text": [
      "10\n",
      "10\n",
      "10\n",
      "10\n",
      "10\n",
      "10\n",
      "10\n",
      "10\n",
      "10\n",
      "10\n"
     ]
    }
   ],
   "source": [
    "'''\n",
    "Zadanie 2 (4 pkt)\n",
    "Zaimplementuj własny generator o nazwie repeat, zwracający obiekt podany przez użytkownika dokładnie N razy.\n",
    "Jeśli wartość parametru N nie została określona, generator powinien zwracać wartości w nieskończoność.\n",
    "\n",
    "PRZYKŁAD\n",
    "repeat(10, 3) → 10 10 10\n",
    "repeat(10, 5) → 10 10 10 10 10\n",
    "repeat(5) → 5 5 5 5 5 5 5 5 5 5 5 5 5 5 5…\n",
    "repeat(5, None) → 5 5 5 5 5 5 5 5 5 5 5 5 5 5 5…\n",
    "'''\n",
    "def repeat(X, N = None):\n",
    "    if N is None:\n",
    "        while True:\n",
    "            yield X   \n",
    "    else:\n",
    "        for i in range(N):\n",
    "            yield X\n",
    "\n",
    "for val in repeat(10,10):\n",
    "    print(val)\n"
   ]
  },
  {
   "cell_type": "code",
   "execution_count": 21,
   "metadata": {
    "id": "gChh80FsWzT7",
    "ExecuteTime": {
     "end_time": "2023-10-25T18:48:02.270141800Z",
     "start_time": "2023-10-25T18:48:02.207638200Z"
    }
   },
   "outputs": [
    {
     "name": "stdout",
     "output_type": "stream",
     "text": [
      "240\n",
      "50\n",
      "Biały\n",
      "180\n",
      "17\n",
      "Biały\n",
      "Biały\n"
     ]
    }
   ],
   "source": [
    "'''\n",
    "Zadanie 3 (1 pkt)\n",
    "W kodzie z zajęć w klasie Pojazd utwórz atrybut, który niezależnie od utworzonego obiektu będzie miał taką samą wartość.\n",
    "każdy obiekt ma mieć kolor biały\n",
    "'''\n",
    "class Pojazd:\n",
    "    kolor = \"Biały\"\n",
    "    def __init__(self, predkosc_max, przebieg):\n",
    "        self.predkosc_max = predkosc_max\n",
    "        self.przebieg = przebieg\n",
    "\n",
    "pojazd1 = Pojazd(240, 50)\n",
    "pojazd2 = Pojazd(180, 17)\n",
    "print(pojazd1.predkosc_max)\n",
    "print(pojazd1.przebieg)\n",
    "print(pojazd1.kolor)\n",
    "print(pojazd2.predkosc_max)\n",
    "print(pojazd2.przebieg)\n",
    "print(pojazd2.kolor)\n",
    "class Autobus(Pojazd):\n",
    "    def __init__(self, predkosc_max, przebieg, nazwa_modelu):\n",
    "        super().__init__(predkosc_max, przebieg)\n",
    "        self.nazwa_modelu = nazwa_modelu\n",
    "\n",
    "autobus1 = Autobus(300, 20, \"Autobus XYZ\")\n",
    "print(autobus1.kolor)"
   ]
  },
  {
   "cell_type": "code",
   "execution_count": 22,
   "metadata": {
    "id": "Q4Js_zjIXHZi",
    "ExecuteTime": {
     "end_time": "2023-10-25T18:48:02.288287600Z",
     "start_time": "2023-10-25T18:48:02.254509300Z"
    }
   },
   "outputs": [
    {
     "name": "stdout",
     "output_type": "stream",
     "text": [
      "5500.0\n",
      "5000\n"
     ]
    }
   ],
   "source": [
    "'''\n",
    "Zadanie 4 (2 pkt)\n",
    "Wykorzystaj klasy Autobus i Pojazd.\n",
    "Zdefiniuj metodę opłata, k†óra będzie miała wartość domyślną liczba_miejsc * 100\n",
    "Jeżeli Pojazd jest instancją Autobusu, opłata ma zostać powiększona o 10% wartości opłaty początkowej.\n",
    "Np. jeżeli autobus domyślnie ma 50 miejsc to opłata całkowita wyniesie 5500\n",
    "'''\n",
    "class Pojazd:\n",
    "    def __init__(self, predkosc_max, przebieg):\n",
    "        self.predkosc_max = predkosc_max\n",
    "        self.przebieg = przebieg\n",
    "\n",
    "    def oplata(self, liczba_miejsc):\n",
    "        return liczba_miejsc * 100\n",
    "\n",
    "class Autobus(Pojazd):\n",
    "    def __init__(self, predkosc_max, przebieg, liczba_miejsc):\n",
    "        super().__init__(predkosc_max, przebieg)\n",
    "        self.liczba_miejsc = liczba_miejsc\n",
    "\n",
    "    def oplata(self):\n",
    "        return super().oplata(self.liczba_miejsc) * 1.10\n",
    "\n",
    "pojazd = Pojazd(180, 100)\n",
    "autobus = Autobus(100, 1000, 50)\n",
    "print(autobus.oplata())\n",
    "print(pojazd.oplata(50))"
   ]
  },
  {
   "cell_type": "code",
   "execution_count": 23,
   "metadata": {
    "id": "BsdImsIAXXsu",
    "ExecuteTime": {
     "end_time": "2023-10-25T18:48:02.466917600Z",
     "start_time": "2023-10-25T18:48:02.294699400Z"
    }
   },
   "outputs": [
    {
     "name": "stdout",
     "output_type": "stream",
     "text": [
      "a=2, b=3, c=1\n",
      "1\n",
      "6\n",
      "nieskonczenie wiele rozwiazan\n",
      "zero rozwiazan\n",
      "[-1.5]\n",
      "zero rozwiazan\n",
      "[3.0, 2.0]\n",
      "[-2.0]\n"
     ]
    }
   ],
   "source": [
    "'''\n",
    "Zadanie 5 (4 pkt)\n",
    "Napisz klasę FunkcjaKwadratowa, która przechowuje funkcje typu $ax^2$+bx+c.\n",
    "Klasa powinna zawierać trzy pola: a, b, c, które są przypisywane w konstruktorze.\n",
    "Główną metodą powinna być rozwiaz(), która zwraca miejsca zerowe podanej funkcji.\n",
    "Należy zwrócić uwagę na przypadki gdy a=0, b=0 lub c=0,\n",
    "a także obmyślić sposób informowania o nieskończonej liczbie, jednym lub zerze rozwiązań.\n",
    "'''\n",
    "\n",
    "'''\n",
    "początek kodu dla ułatwienia\n",
    "\n",
    "'''\n",
    "import math\n",
    "\n",
    "class FunkcjaKwadratowa:\n",
    "    def __init__(self, a, b, c):\n",
    "        self.a = a\n",
    "        self.b = b\n",
    "        self.c = c\n",
    "\n",
    "    def wypisz(self):\n",
    "        print(f\"a={self.a}, b={self.b}, c={self.c}\")\n",
    "\n",
    "    def oblicz_wartosc(self, x):\n",
    "        return self.a * x**2 + self.b * x + self.c\n",
    "\n",
    "    def rozwiaz(self):\n",
    "        if self.a == 0:\n",
    "            if self.b == 0:\n",
    "                if self.c == 0:\n",
    "                    return \"nieskonczenie wiele rozwiazan\"\n",
    "                else:\n",
    "                    return \"zero rozwiazan\"\n",
    "            else:\n",
    "                return [-self.c / self.b]\n",
    "        else:\n",
    "            delta = self.b**2 - 4*self.a*self.c\n",
    "            if delta > 0:\n",
    "                x1 = (-self.b + math.sqrt(delta)) / (2 * self.a)\n",
    "                x2 = (-self.b - math.sqrt(delta)) / (2 * self.a)\n",
    "                return [x1, x2]\n",
    "            elif delta == 0:\n",
    "                x = -self.b / (2 * self.a)\n",
    "                return [x]\n",
    "            else:\n",
    "                return \"zero rozwiazan\"\n",
    "\n",
    "def main():\n",
    "    f1 = FunkcjaKwadratowa(2, 3, 1)\n",
    "    f1.wypisz()\n",
    "    print(f1.oblicz_wartosc(0))\n",
    "    print(f1.oblicz_wartosc(1))\n",
    "\n",
    "    print(FunkcjaKwadratowa(0, 0, 0).rozwiaz())\n",
    "    print(FunkcjaKwadratowa(0, 0, 1).rozwiaz())\n",
    "    print(FunkcjaKwadratowa(0, 2, 3).rozwiaz())\n",
    "    print(FunkcjaKwadratowa(1, 2, 3).rozwiaz())\n",
    "    print(FunkcjaKwadratowa(1, -5, 6).rozwiaz())\n",
    "    print(FunkcjaKwadratowa(1, 4, 4).rozwiaz())\n",
    "\n",
    "if __name__ == \"__main__\":\n",
    "    main()"
   ]
  }
 ],
 "metadata": {
  "colab": {
   "authorship_tag": "ABX9TyPfvCA8avt9JyH+RrMyhpFb",
   "provenance": []
  },
  "kernelspec": {
   "name": "python3",
   "language": "python",
   "display_name": "Python 3 (ipykernel)"
  },
  "language_info": {
   "codemirror_mode": {
    "name": "ipython",
    "version": 3
   },
   "file_extension": ".py",
   "mimetype": "text/x-python",
   "name": "python",
   "nbconvert_exporter": "python",
   "pygments_lexer": "ipython3",
   "version": "3.11.4"
  }
 },
 "nbformat": 4,
 "nbformat_minor": 0
}
